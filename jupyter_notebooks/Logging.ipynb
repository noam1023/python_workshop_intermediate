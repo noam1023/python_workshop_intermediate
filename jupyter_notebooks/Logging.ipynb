{
 "cells": [
  {
   "cell_type": "markdown",
   "metadata": {
    "slideshow": {
     "slide_type": "slide"
    }
   },
   "source": [
    "Logging in python is easy and powerful.\n",
    "Use it instead of print() *why not use print() ?*\n",
    "\n",
    "https://docs.python.org/3/library/logging.html\n",
    "    \n",
    "levels: info, warning, error, critical"
   ]
  },
  {
   "cell_type": "code",
   "execution_count": 1,
   "metadata": {
    "slideshow": {
     "slide_type": "slide"
    }
   },
   "outputs": [
    {
     "name": "stderr",
     "output_type": "stream",
     "text": [
      "INFO:__main__:Start reading database\n",
      "INFO:__main__:Updating records ...\n",
      "INFO:__main__:Finish updating records\n"
     ]
    }
   ],
   "source": [
    "import logging\n",
    "# change INFO to DEBUG\n",
    "# and then restart the jupyter kernel  and run again to see the effect\n",
    "logging.basicConfig(level=logging.INFO)\n",
    "logger = logging.getLogger(__name__) # TRY replace to 'noam'\n",
    "\n",
    "logger.info('Start reading database')\n",
    "# read database here\n",
    "records = {'john': 55, 'tom': 66}\n",
    "logger.debug('Records: %s', records)\n",
    "logger.info('Updating records ...')\n",
    "# update records here\n",
    "logger.info('Finish updating records')"
   ]
  },
  {
   "cell_type": "raw",
   "metadata": {},
   "source": [
    "Use the logger to get information on exceptions:\n",
    "    \n",
    "    And note that the printing order is not as you expect:\n",
    "     first the logger output, then the print(\"logging...\")"
   ]
  },
  {
   "cell_type": "code",
   "execution_count": 2,
   "metadata": {},
   "outputs": [
    {
     "name": "stderr",
     "output_type": "stream",
     "text": [
      "ERROR:__main__:Failed to open file\n",
      "Traceback (most recent call last):\n",
      "  File \"<ipython-input-2-1477067df773>\", line 2, in <module>\n",
      "    open('/path/to/does/not/exist', 'rb')\n",
      "FileNotFoundError: [Errno 2] No such file or directory: '/path/to/does/not/exist'\n"
     ]
    },
    {
     "name": "stdout",
     "output_type": "stream",
     "text": [
      "logging.\n",
      "44\n"
     ]
    }
   ],
   "source": [
    "try:\n",
    "    open('/path/to/does/not/exist', 'rb')\n",
    "except (SystemExit, KeyboardInterrupt):\n",
    "    raise\n",
    "except Exception as e:\n",
    "    print(\"logging...\")\n",
    "    logger.error('Failed to open file', exc_info=True)\n"
   ]
  },
  {
   "cell_type": "markdown",
   "metadata": {},
   "source": [
    "\n",
    "\n",
    "### Now send these log message to a file (could be in addition to the console)"
   ]
  },
  {
   "cell_type": "code",
   "execution_count": 1,
   "metadata": {},
   "outputs": [],
   "source": [
    "import logging\n",
    "\n",
    "logger = logging.getLogger(__name__)\n",
    "logger.setLevel(logging.INFO)\n",
    "\n",
    "# create a file handler\n",
    "handler = logging.FileHandler('hello.log')\n",
    "handler.setLevel(logging.INFO)\n",
    "\n",
    "# create a logging format\n",
    "formatter = logging.Formatter('%(asctime)s - %(name)s - %(levelname)s - %(message)s')\n",
    "handler.setFormatter(formatter)\n",
    "\n",
    "# add the handlers to the logger\n",
    "logger.addHandler(handler)\n",
    "\n",
    "logger.info('Hello baby')"
   ]
  },
  {
   "cell_type": "markdown",
   "metadata": {},
   "source": [
    "There is much more to know about loggers:\n",
    "    - is it thread safe\n",
    "    - what is the performance impact\n",
    "    - where can the log output be sent to?\n",
    "    "
   ]
  }
 ],
 "metadata": {
  "celltoolbar": "Slideshow",
  "kernelspec": {
   "display_name": "Python 3",
   "language": "python",
   "name": "python3"
  },
  "language_info": {
   "codemirror_mode": {
    "name": "ipython",
    "version": 3
   },
   "file_extension": ".py",
   "mimetype": "text/x-python",
   "name": "python",
   "nbconvert_exporter": "python",
   "pygments_lexer": "ipython3",
   "version": "3.7.1"
  }
 },
 "nbformat": 4,
 "nbformat_minor": 2
}
