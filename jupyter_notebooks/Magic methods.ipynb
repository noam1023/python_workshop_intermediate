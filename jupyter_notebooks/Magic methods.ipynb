{
 "cells": [
  {
   "cell_type": "markdown",
   "metadata": {},
   "source": [
    "Normally you don't mess with the instance creation ( done *before* calling __\\__init\\____() !)\n",
    "but you can do it"
   ]
  },
  {
   "cell_type": "code",
   "execution_count": 1,
   "metadata": {},
   "outputs": [
    {
     "name": "stdout",
     "output_type": "stream",
     "text": [
      "in new()\n",
      "in init()\n",
      "in new()\n",
      "in init()\n",
      "in new()\n",
      "in init()\n"
     ]
    }
   ],
   "source": [
    "class LogicError(Exception): pass\n",
    "\n",
    "class IchingCalculator():\n",
    "    num_instances = 0\n",
    "    def __new__(cls):\n",
    "        if cls.num_instances < 3:\n",
    "            inst = object.__new__(cls)\n",
    "            cls.num_instances += 1\n",
    "        else:\n",
    "            raise LogicError(\"this class is planned to have up to 3 instances\")\n",
    "        print(\"in new()\")\n",
    "        return inst\n",
    "        \n",
    "    def __init__(self):\n",
    "        print(\"in init()\")\n",
    "        \n",
    "a = IchingCalculator()\n",
    "b = IchingCalculator()\n",
    "c = IchingCalculator()\n",
    "# open this line and see\n",
    "#d = IchingCalculator()"
   ]
  },
  {
   "cell_type": "markdown",
   "metadata": {},
   "source": [
    "\n",
    "\n",
    "\n",
    "Definining '+' is trivial, and you can control right/left addition\n",
    "\n",
    "The __int__() converts a type to integer"
   ]
  },
  {
   "cell_type": "code",
   "execution_count": 3,
   "metadata": {},
   "outputs": [
    {
     "ename": "TypeError",
     "evalue": "unsupported operand type(s) for +: 'int' and 'drunken_number'",
     "output_type": "error",
     "traceback": [
      "\u001b[1;31m---------------------------------------------------------------------------\u001b[0m",
      "\u001b[1;31mTypeError\u001b[0m                                 Traceback (most recent call last)",
      "\u001b[1;32m<ipython-input-3-27da38c456f6>\u001b[0m in \u001b[0;36m<module>\u001b[1;34m\u001b[0m\n\u001b[0;32m     19\u001b[0m \u001b[1;33m\u001b[0m\u001b[0m\n\u001b[0;32m     20\u001b[0m \u001b[1;31m# TypeError: unsupported operand type(s) for +: 'int' and 'drunken_number'\u001b[0m\u001b[1;33m\u001b[0m\u001b[1;33m\u001b[0m\u001b[1;33m\u001b[0m\u001b[0m\n\u001b[1;32m---> 21\u001b[1;33m \u001b[0mprint\u001b[0m\u001b[1;33m(\u001b[0m\u001b[1;36m6\u001b[0m \u001b[1;33m+\u001b[0m \u001b[0mdrunken_number\u001b[0m\u001b[1;33m(\u001b[0m\u001b[1;36m4\u001b[0m\u001b[1;33m)\u001b[0m\u001b[1;33m)\u001b[0m\u001b[1;33m\u001b[0m\u001b[1;33m\u001b[0m\u001b[0m\n\u001b[0m\u001b[0;32m     22\u001b[0m \u001b[1;33m\u001b[0m\u001b[0m\n\u001b[0;32m     23\u001b[0m \u001b[1;31m#drunken_number(4) + 6\u001b[0m\u001b[1;33m\u001b[0m\u001b[1;33m\u001b[0m\u001b[1;33m\u001b[0m\u001b[0m\n",
      "\u001b[1;31mTypeError\u001b[0m: unsupported operand type(s) for +: 'int' and 'drunken_number'"
     ]
    }
   ],
   "source": [
    "import random\n",
    "\n",
    "class drunken_number():\n",
    "    def __init__(self,v):\n",
    "        self.v = v\n",
    "        \n",
    "    def __add__(self, other):\n",
    "        return self.v + int(other) + random.random()\n",
    "    \n",
    "    #def __radd__(self, other):\n",
    "    #    return self.v + other\n",
    "        \n",
    "    \n",
    "    def __str__(self):\n",
    "        return str(self.v)\n",
    "    \n",
    "    def __int__(self):\n",
    "        return self.v\n",
    "    \n",
    "# TypeError: unsupported operand type(s) for +: 'int' and 'drunken_number'\n",
    "print(6 + drunken_number(4))\n",
    "\n",
    "#drunken_number(4) + 6\n",
    "\n",
    "drunken_number(4) + drunken_number(4)"
   ]
  }
 ],
 "metadata": {
  "kernelspec": {
   "display_name": "Python 3",
   "language": "python",
   "name": "python3"
  },
  "language_info": {
   "codemirror_mode": {
    "name": "ipython",
    "version": 3
   },
   "file_extension": ".py",
   "mimetype": "text/x-python",
   "name": "python",
   "nbconvert_exporter": "python",
   "pygments_lexer": "ipython3",
   "version": "3.7.1"
  }
 },
 "nbformat": 4,
 "nbformat_minor": 2
}
