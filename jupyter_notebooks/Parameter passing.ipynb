{
 "cells": [
  {
   "cell_type": "markdown",
   "metadata": {},
   "source": [
    "#Parameter passing in Python\n",
    "\n",
    "*Always* by value.\n",
    "\n",
    "but what is a value?"
   ]
  },
  {
   "cell_type": "markdown",
   "metadata": {},
   "source": [
    "Object identity (\"is\") vs. equality."
   ]
  },
  {
   "cell_type": "code",
   "execution_count": 13,
   "metadata": {
    "scrolled": true
   },
   "outputs": [
    {
     "name": "stdout",
     "output_type": "stream",
     "text": [
      "a: 1637842449904\n",
      "b: 1637842451888\n",
      "c: 1637842449904\n"
     ]
    }
   ],
   "source": [
    "a = 666\n",
    "print(\"a:\",id(a))\n",
    "b = 666\n",
    "print(\"b:\",id(b))\n",
    "c = a\n",
    "print(\"c:\",id(c))\n",
    "#a is c\n",
    "#a ==b"
   ]
  },
  {
   "cell_type": "code",
   "execution_count": 14,
   "metadata": {},
   "outputs": [
    {
     "name": "stdout",
     "output_type": "stream",
     "text": [
      "1637841668872\n",
      "id(s)= 1637841641872\n",
      "['list', 'is', 'mutable']\n"
     ]
    }
   ],
   "source": [
    "x = ['list','is','mutable']\n",
    "\n",
    "def foo(s):\n",
    "    # assign the arg to point to a new object\n",
    "    s = \"a new object, a string in this case\"\n",
    "    \n",
    "    # or modify the currently pointed object\n",
    "    #s[1] = 'are'\n",
    "    print(\"id(s)=\", id(s))\n",
    "    \n",
    "print(id(x))\n",
    "foo(x)\n",
    "print(x)"
   ]
  },
  {
   "cell_type": "code",
   "execution_count": null,
   "metadata": {},
   "outputs": [],
   "source": []
  }
 ],
 "metadata": {
  "kernelspec": {
   "display_name": "Python 3",
   "language": "python",
   "name": "python3"
  },
  "language_info": {
   "codemirror_mode": {
    "name": "ipython",
    "version": 3
   },
   "file_extension": ".py",
   "mimetype": "text/x-python",
   "name": "python",
   "nbconvert_exporter": "python",
   "pygments_lexer": "ipython3",
   "version": "3.7.1"
  }
 },
 "nbformat": 4,
 "nbformat_minor": 2
}
