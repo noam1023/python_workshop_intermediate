{
 "cells": [
  {
   "cell_type": "markdown",
   "metadata": {},
   "source": [
    "**ALL** errors must be handled. \n",
    "There are two major ways:\n",
    "    * return code\n",
    "    * exceptions\n",
    "    \n",
    "    if using return code:\n",
    "    errCode = f()\n",
    "    if errCode:\n",
    "        return\n",
    "    errCode = g()\n",
    "    if errCode:\n",
    "        return\n",
    "    ...\n",
    "    \n",
    "    try:\n",
    "        f()\n",
    "        g()\n",
    "    except IndexError as ex:\n",
    "        pass\n",
    "    \n",
    " ## When should we raise an exception?\n",
    "    "
   ]
  },
  {
   "cell_type": "markdown",
   "metadata": {},
   "source": []
  },
  {
   "cell_type": "code",
   "execution_count": 1,
   "metadata": {},
   "outputs": [
    {
     "name": "stdout",
     "output_type": "stream",
     "text": [
      "No worries\n"
     ]
    }
   ],
   "source": [
    "try:\n",
    "    a = [5,6]\n",
    "    b = a[3] # index error\n",
    "    print(\"done!\")\n",
    "except IndexError:    # RuntimeError:\n",
    "    print(\"No worries\")\n"
   ]
  },
  {
   "cell_type": "markdown",
   "metadata": {},
   "source": [
    "\n",
    "\n",
    "The full structure:"
   ]
  },
  {
   "cell_type": "code",
   "execution_count": 2,
   "metadata": {},
   "outputs": [
    {
     "name": "stdout",
     "output_type": "stream",
     "text": [
      "no exceptions!\n",
      "get here in any case\n"
     ]
    }
   ],
   "source": [
    "class most_specific_exception_class(RuntimeError):\n",
    "    pass\n",
    "\n",
    "try:\n",
    "    # do your things\n",
    "    pass\n",
    "    #raise\n",
    "    # raise most_specific_exception_class(\"boo\")\n",
    "except most_specific_exception_class as ex:\n",
    "    print(\"oops. got \" + str(ex))\n",
    "except Exception:\n",
    "    print(\"you should always have a more concrete exception\")\n",
    "else:\n",
    "    print(\"no exceptions!\")\n",
    "finally:\n",
    "    print(\"get here in any case\")\n",
    "    "
   ]
  },
  {
   "cell_type": "markdown",
   "metadata": {},
   "source": []
  },
  {
   "cell_type": "code",
   "execution_count": null,
   "metadata": {},
   "outputs": [],
   "source": [
    "try:\n",
    "    print(\"do something\")\n",
    "finally:\n",
    "    print(\"finally here\")\n",
    "    "
   ]
  }
 ],
 "metadata": {
  "kernelspec": {
   "display_name": "Python 3",
   "language": "python",
   "name": "python3"
  },
  "language_info": {
   "codemirror_mode": {
    "name": "ipython",
    "version": 3
   },
   "file_extension": ".py",
   "mimetype": "text/x-python",
   "name": "python",
   "nbconvert_exporter": "python",
   "pygments_lexer": "ipython3",
   "version": "3.7.1"
  }
 },
 "nbformat": 4,
 "nbformat_minor": 2
}
